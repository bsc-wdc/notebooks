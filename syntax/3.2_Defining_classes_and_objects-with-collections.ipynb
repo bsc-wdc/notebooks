{
 "cells": [
  {
   "cell_type": "markdown",
   "metadata": {
    "collapsed": true,
    "slideshow": {
     "slide_type": "slide"
    }
   },
   "source": [
    "# PyCOMPSs: Using objects, lists, and synchronization. Using collections. \n",
    "\n",
    "In this example we will see how classes and objects can be used from PyCOMPSs, and that class methods can become tasks. The example also illustrates the use of collections"
   ]
  },
  {
   "cell_type": "markdown",
   "metadata": {
    "slideshow": {
     "slide_type": "subslide"
    }
   },
   "source": [
    "## Import the PyCOMPSs library"
   ]
  },
  {
   "cell_type": "code",
   "execution_count": null,
   "metadata": {},
   "outputs": [],
   "source": [
    "import pycompss.interactive as ipycompss"
   ]
  },
  {
   "cell_type": "markdown",
   "metadata": {
    "slideshow": {
     "slide_type": "-"
    }
   },
   "source": [
    "## Start the runtime  \n",
    "Initialize COMPSs runtime\n",
    "Parameters indicates if the execution will generate task graph, tracefile, monitor interval and debug information. "
   ]
  },
  {
   "cell_type": "code",
   "execution_count": null,
   "metadata": {},
   "outputs": [],
   "source": [
    "ipycompss.start(graph=True, monitor=1000, debug=True)\n",
    "#trace=True"
   ]
  },
  {
   "cell_type": "markdown",
   "metadata": {
    "slideshow": {
     "slide_type": "subslide"
    }
   },
   "source": [
    "## Importing task and arguments directionality modules \n",
    "Import task module before annotating functions or methods "
   ]
  },
  {
   "cell_type": "code",
   "execution_count": null,
   "metadata": {},
   "outputs": [],
   "source": [
    "from pycompss.api.api import compss_barrier\n",
    "from pycompss.api.api import compss_wait_on\n",
    "from pycompss.api.task import task\n",
    "from pycompss.api.parameter import *"
   ]
  },
  {
   "cell_type": "markdown",
   "metadata": {
    "collapsed": true,
    "slideshow": {
     "slide_type": "subslide"
    }
   },
   "source": [
    "## Declaring a class"
   ]
  },
  {
   "cell_type": "code",
   "execution_count": null,
   "metadata": {},
   "outputs": [],
   "source": [
    "%%writefile my_shaper.py \n",
    "\n",
    "from pycompss.api.task import task\n",
    "from pycompss.api.parameter import IN\n",
    "\n",
    "class Shape(object):\n",
    "    def __init__(self,x,y):\n",
    "        self.x = x\n",
    "        self.y = y\n",
    "        description = \"This shape has not been described yet\"\n",
    "\n",
    "    @task(returns=int, target_direction=IN)\n",
    "    def area(self):\n",
    "        import time\n",
    "        time.sleep(4)\n",
    "        return self.x * self.y\n",
    "    \n",
    "    @task()    \n",
    "    def scaleSize(self,scale):\n",
    "        import time\n",
    "        time.sleep(4)\n",
    "        self.x = self.x * scale\n",
    "        self.y = self.y * scale\n",
    "        \n",
    "    @task(returns=int, target_direction=IN)\n",
    "    def perimeter(self):\n",
    "        import time\n",
    "        time.sleep(4)\n",
    "        return 2 * self.x + 2 * self.y\n",
    "    \n",
    "    def describe(self,text):\n",
    "        self.description = text\n",
    "        \n",
    "    @task(target_direction=IN)\n",
    "    def infoShape(self):\n",
    "        import time\n",
    "        time.sleep(1)\n",
    "        print('Shape x=', self.x, 'y= ', self.y)\n",
    "        "
   ]
  },
  {
   "cell_type": "code",
   "execution_count": null,
   "metadata": {},
   "outputs": [],
   "source": [
    "#Operations with collections: previous to release 2.5 \n",
    "@task(returns=1)\n",
    "def addAll(*mylist):\n",
    "    import time\n",
    "    time.sleep(1)\n",
    "    sum = 0\n",
    "    for ll in mylist:\n",
    "        sum = sum + ll\n",
    "    return sum    "
   ]
  },
  {
   "cell_type": "code",
   "execution_count": null,
   "metadata": {},
   "outputs": [],
   "source": [
    "@task(returns=int, mylist = COLLECTION_IN)\n",
    "def addAll_C(mylist):\n",
    "    import time\n",
    "    time.sleep(4)\n",
    "    sum = 0\n",
    "    for ll in mylist:\n",
    "        sum = sum + ll\n",
    "    return sum        "
   ]
  },
  {
   "cell_type": "code",
   "execution_count": null,
   "metadata": {},
   "outputs": [],
   "source": [
    "@task(returns=2, mylist = COLLECTION_IN, my_otherlist = COLLECTION_IN)\n",
    "def addAll_C2(mylist, my_otherlist):\n",
    "    import time\n",
    "    time.sleep(4)\n",
    "    sum = 0\n",
    "    sum2 = 0\n",
    "    for ll in mylist:\n",
    "        sum = sum + ll\n",
    "    for jj in my_otherlist: \n",
    "        sum2 = sum2 + jj\n",
    "    return sum, sum2 "
   ]
  },
  {
   "cell_type": "code",
   "execution_count": null,
   "metadata": {},
   "outputs": [],
   "source": [
    "@task (mylist = COLLECTION_INOUT)\n",
    "def scale_all (mylist, scale):\n",
    "    import time\n",
    "    time.sleep(4)\n",
    "    for ll in mylist:\n",
    "        ll.x = ll.x * scale\n",
    "        ll.y = ll.y * scale "
   ]
  },
  {
   "cell_type": "markdown",
   "metadata": {
    "slideshow": {
     "slide_type": "subslide"
    }
   },
   "source": [
    "## Invoking tasks "
   ]
  },
  {
   "cell_type": "code",
   "execution_count": null,
   "metadata": {},
   "outputs": [],
   "source": [
    "from my_shaper import Shape"
   ]
  },
  {
   "cell_type": "code",
   "execution_count": null,
   "metadata": {},
   "outputs": [],
   "source": [
    "my_shapes = []\n",
    "my_shapes.append(Shape(100,45))\n",
    "my_shapes.append(Shape(50,50))\n",
    "my_shapes.append(Shape(10,100))\n",
    "my_shapes.append(Shape(20,30))"
   ]
  },
  {
   "cell_type": "code",
   "execution_count": null,
   "metadata": {},
   "outputs": [],
   "source": [
    "all_areas = []"
   ]
  },
  {
   "cell_type": "code",
   "execution_count": null,
   "metadata": {},
   "outputs": [],
   "source": [
    "for this_shape in my_shapes:\n",
    "    all_areas.append(this_shape.area())"
   ]
  },
  {
   "cell_type": "markdown",
   "metadata": {},
   "source": [
    "## Synchronizing results from tasks"
   ]
  },
  {
   "cell_type": "code",
   "execution_count": null,
   "metadata": {},
   "outputs": [],
   "source": [
    "all_areas = compss_wait_on(all_areas)\n",
    "print(all_areas)"
   ]
  },
  {
   "cell_type": "code",
   "execution_count": null,
   "metadata": {},
   "outputs": [],
   "source": [
    "rectangle = Shape(200,25)\n",
    "rectangle.scaleSize(5)\n",
    "area_rectangle = rectangle.area()\n",
    "rectangle = compss_wait_on(rectangle)\n",
    "print('X =', rectangle.x)\n",
    "area_rectangle = compss_wait_on(area_rectangle)\n",
    "print('Area =', area_rectangle)"
   ]
  },
  {
   "cell_type": "markdown",
   "metadata": {},
   "source": [
    "## Accessing data in collections"
   ]
  },
  {
   "cell_type": "code",
   "execution_count": null,
   "metadata": {},
   "outputs": [],
   "source": [
    "all_perimeters=[]\n",
    "my_shapes.append(rectangle)\n",
    "for this_shape in my_shapes:\n",
    "    all_perimeters.append(this_shape.perimeter())"
   ]
  },
  {
   "cell_type": "code",
   "execution_count": null,
   "metadata": {},
   "outputs": [],
   "source": [
    "mysum = addAll_C(all_perimeters)\n",
    "mysum = compss_wait_on(mysum)\n",
    "print(mysum)"
   ]
  },
  {
   "cell_type": "code",
   "execution_count": null,
   "metadata": {},
   "outputs": [],
   "source": [
    "# Previous version without collections\n",
    "# mysum = addAll(*all_perimeters)\n",
    "# mysum = compss_wait_on(mysum)\n",
    "# print(mysum)"
   ]
  },
  {
   "cell_type": "markdown",
   "metadata": {},
   "source": [
    "## Accessing two collections"
   ]
  },
  {
   "cell_type": "code",
   "execution_count": null,
   "metadata": {},
   "outputs": [],
   "source": [
    "all_perimeters=[]\n",
    "all_areas=[]\n",
    "for this_shape in my_shapes:\n",
    "    all_perimeters.append(this_shape.perimeter())\n",
    "    all_areas.append(this_shape.area())"
   ]
  },
  {
   "cell_type": "code",
   "execution_count": null,
   "metadata": {},
   "outputs": [],
   "source": [
    "[my_per, my_area] = addAll_C2(all_perimeters, all_areas)\n",
    "[my_per, my_area] = compss_wait_on([my_per, my_area])\n",
    "print([my_per, my_area])"
   ]
  },
  {
   "cell_type": "markdown",
   "metadata": {},
   "source": [
    "## Scattering data from a collection"
   ]
  },
  {
   "cell_type": "code",
   "execution_count": null,
   "metadata": {},
   "outputs": [],
   "source": [
    "scale_all(my_shapes,2)\n",
    "scaled_areas=[]\n",
    "for this_shape in my_shapes:\n",
    "    scaled_areas.append(this_shape.area())\n",
    "    \n",
    "scaled_areas = compss_wait_on(scaled_areas)\n",
    "print(scaled_areas)"
   ]
  },
  {
   "cell_type": "markdown",
   "metadata": {
    "slideshow": {
     "slide_type": "subslide"
    }
   },
   "source": [
    "## Stop the runtime"
   ]
  },
  {
   "cell_type": "code",
   "execution_count": null,
   "metadata": {},
   "outputs": [],
   "source": [
    "ipycompss.stop(sync=True)"
   ]
  },
  {
   "cell_type": "markdown",
   "metadata": {},
   "source": [
    "#### <font color=green> **Remember:** *The Python kernel must be restarted before starting again PyCOMPSs within the same notebook.* </font>"
   ]
  }
 ],
 "metadata": {
  "kernelspec": {
   "display_name": "Python 2",
   "language": "python",
   "name": "python2"
  },
  "language_info": {
   "codemirror_mode": {
    "name": "ipython",
    "version": 2
   },
   "file_extension": ".py",
   "mimetype": "text/x-python",
   "name": "python",
   "nbconvert_exporter": "python",
   "pygments_lexer": "ipython2",
   "version": "2.7.12"
  },
  "livereveal": {
   "auto_select": "code",
   "overlay": "<div class='myheader'><img height='100' align='right' src='http://www.bsc.es/actris/sites/default/files/logos/BSC-logo%201.jpg'></div>",
   "scroll": true,
   "theme": "simple",
   "transition": "slide"
  }
 },
 "nbformat": 4,
 "nbformat_minor": 1
}
