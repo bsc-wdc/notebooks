{
 "cells": [
  {
   "cell_type": "markdown",
   "metadata": {
    "collapsed": true,
    "slideshow": {
     "slide_type": "slide"
    }
   },
   "source": [
    "# PyCOMPSs: Integration with Numba\n",
    "\n",
    "In this example we will how to use Numba with PyCOMPSs."
   ]
  },
  {
   "cell_type": "markdown",
   "metadata": {
    "slideshow": {
     "slide_type": "subslide"
    }
   },
   "source": [
    "## Import the PyCOMPSs library"
   ]
  },
  {
   "cell_type": "code",
   "execution_count": null,
   "metadata": {},
   "outputs": [],
   "source": [
    "import pycompss.interactive as ipycompss"
   ]
  },
  {
   "cell_type": "markdown",
   "metadata": {},
   "source": [
    "## Starting runtime  \n",
    "Initialize COMPSs runtime\n",
    "Parameters indicates if the execution will generate task graph, tracefile, monitor interval and debug information."
   ]
  },
  {
   "cell_type": "code",
   "execution_count": null,
   "metadata": {},
   "outputs": [],
   "source": [
    "ipycompss.start(graph=True, monitor=1000, trace=True)\n",
    "#debug=True"
   ]
  },
  {
   "cell_type": "markdown",
   "metadata": {
    "slideshow": {
     "slide_type": "subslide"
    }
   },
   "source": [
    "## Importing task and arguments directionality modules \n",
    "Import task module before annotating functions or methods "
   ]
  },
  {
   "cell_type": "code",
   "execution_count": null,
   "metadata": {},
   "outputs": [],
   "source": [
    "from pycompss.api.task import task\n",
    "from pycompss.api.parameter import *\n",
    "from pycompss.api.api import compss_barrier\n",
    "from pycompss.api.api import compss_wait_on"
   ]
  },
  {
   "cell_type": "markdown",
   "metadata": {
    "slideshow": {
     "slide_type": "subslide"
    }
   },
   "source": [
    "## Importing other modules\n",
    "Import the time and numpy modules"
   ]
  },
  {
   "cell_type": "code",
   "execution_count": null,
   "metadata": {},
   "outputs": [],
   "source": [
    "import time\n",
    "import numpy as np"
   ]
  },
  {
   "cell_type": "markdown",
   "metadata": {
    "slideshow": {
     "slide_type": "subslide"
    }
   },
   "source": [
    "## Declaring tasks \n",
    "Declare functions and decorate with @task those that should be tasks  -- Note that they are exactly the same but the \"numba\" parameter in the @task decorator"
   ]
  },
  {
   "cell_type": "code",
   "execution_count": null,
   "metadata": {},
   "outputs": [],
   "source": [
    "@task(returns=1)  # Default: numba=False\n",
    "def ident_loops(x):\n",
    "    r = np.empty_like(x)\n",
    "    n = len(x)\n",
    "    for i in range(n):\n",
    "        r[i] = np.cos(x[i]) ** 2 + np.sin(x[i]) ** 2\n",
    "    return r"
   ]
  },
  {
   "cell_type": "code",
   "execution_count": null,
   "metadata": {},
   "outputs": [],
   "source": [
    "@task(returns=1, numba=True)\n",
    "def ident_loops_jit(x):\n",
    "    r = np.empty_like(x)\n",
    "    n = len(x)\n",
    "    for i in range(n):\n",
    "        r[i] = np.cos(x[i]) ** 2 + np.sin(x[i]) ** 2\n",
    "    return r"
   ]
  },
  {
   "cell_type": "markdown",
   "metadata": {
    "slideshow": {
     "slide_type": "subslide"
    }
   },
   "source": [
    "## Invoking tasks "
   ]
  },
  {
   "cell_type": "code",
   "execution_count": null,
   "metadata": {},
   "outputs": [],
   "source": [
    "size = 100000\n",
    "ntasks = 8\n",
    "\n",
    "# Run some tasks without numba jit\n",
    "start = time.time()\n",
    "for i in range(ntasks):\n",
    "    out = ident_loops(np.arange(size))\n",
    "compss_barrier()\n",
    "end = time.time()\n",
    "\n",
    "# Run some tasks with numba jit\n",
    "start_jit = time.time()\n",
    "for i in range(ntasks):\n",
    "    out_jit = ident_loops_jit(np.arange(size))\n",
    "compss_barrier()\n",
    "end_jit = time.time()\n",
    "\n",
    "# Get the last result of each run to compare that the results are ok\n",
    "out = compss_wait_on(out)\n",
    "out_jit = compss_wait_on(out_jit)\n",
    "\n",
    "print(\"TIMING RESULTS:\")\n",
    "print(\"* ident_loops      : %s seconds\" % str(end - start))\n",
    "print(\"* ident_loops_jit  : %s seconds\" % str(end_jit - start_jit))\n",
    "if len(out) == len(out_jit) and list(out) == list(out_jit):\n",
    "    print(\"* SUCCESS: Results match.\")\n",
    "else:\n",
    "    print(\"* FAILURE: Results are different!!!\")"
   ]
  },
  {
   "cell_type": "markdown",
   "metadata": {
    "slideshow": {
     "slide_type": "subslide"
    }
   },
   "source": [
    "## Stop the runtime"
   ]
  },
  {
   "cell_type": "code",
   "execution_count": null,
   "metadata": {},
   "outputs": [],
   "source": [
    "ipycompss.stop(sync=False)"
   ]
  },
  {
   "cell_type": "markdown",
   "metadata": {
    "collapsed": true
   },
   "source": [
    "#### <font color=green> **Remember:** *The Python kernel must be restarted before starting again PyCOMPSs within the same notebook.* </font>"
   ]
  }
 ],
 "metadata": {
  "kernelspec": {
   "display_name": "Python 2",
   "language": "python",
   "name": "python2"
  },
  "language_info": {
   "codemirror_mode": {
    "name": "ipython",
    "version": 2
   },
   "file_extension": ".py",
   "mimetype": "text/x-python",
   "name": "python",
   "nbconvert_exporter": "python",
   "pygments_lexer": "ipython2",
   "version": "2.7.12"
  },
  "livereveal": {
   "auto_select": "code",
   "overlay": "<div class='myheader'><img height='100' align='right' src='http://www.bsc.es/actris/sites/default/files/logos/BSC-logo%201.jpg'></div>",
   "scroll": true,
   "theme": "simple",
   "transition": "slide"
  }
 },
 "nbformat": 4,
 "nbformat_minor": 1
}
