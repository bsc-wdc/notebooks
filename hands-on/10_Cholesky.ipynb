{
 "cells": [
  {
   "cell_type": "markdown",
   "metadata": {
    "slideshow": {
     "slide_type": "slide"
    }
   },
   "source": [
    "# PyCOMPSs - Hands On\n",
    "\n",
    "## <font color=blue> Demo Cholesky </font>"
   ]
  },
  {
   "cell_type": "markdown",
   "metadata": {
    "slideshow": {
     "slide_type": "slide"
    }
   },
   "source": [
    "# CHOLESKY Decomposition/Factorization\n",
    "\n",
    "Given a symmetric positive definite matrix A, the Cholesky decomposition is an upper triangular matrix U (with strictly positive diagonal entries) such that:\n",
    "\n",
    "$A=U^TU$"
   ]
  },
  {
   "cell_type": "code",
   "execution_count": null,
   "metadata": {
    "slideshow": {
     "slide_type": "subslide"
    }
   },
   "outputs": [],
   "source": [
    "import pycompss.interactive as ipycompss"
   ]
  },
  {
   "cell_type": "code",
   "execution_count": null,
   "metadata": {},
   "outputs": [],
   "source": [
    "# Start PyCOMPSs runtime with graph and tracing enabled\n",
    "ipycompss.start(graph=True, monitor=1000)\n",
    "#trace=True"
   ]
  },
  {
   "cell_type": "code",
   "execution_count": null,
   "metadata": {},
   "outputs": [],
   "source": [
    "from pycompss.api.task import task\n",
    "from scipy import linalg\n",
    "from scipy import random\n",
    "import numpy as np\n",
    "import ctypes"
   ]
  },
  {
   "cell_type": "markdown",
   "metadata": {
    "slideshow": {
     "slide_type": "subslide"
    }
   },
   "source": [
    "### Task definitions"
   ]
  },
  {
   "cell_type": "code",
   "execution_count": null,
   "metadata": {},
   "outputs": [],
   "source": [
    "@task(returns=list)\n",
    "def createBlock(BSIZE, MKLProc, diag):\n",
    "    import os\n",
    "    os.environ[\"MKL_NUM_THREADS\"]=str(MKLProc)\n",
    "    block = np.array(np.random.random((BSIZE, BSIZE)), dtype=np.double,copy=False)\n",
    "    mb = np.matrix(block, dtype=np.double, copy=False)\n",
    "    mb = mb + np.transpose(mb)\n",
    "    if diag:\n",
    "        mb = mb + 2*BSIZE*np.eye(BSIZE)\n",
    "    return mb\n",
    "\n",
    "@task(returns=np.ndarray)\n",
    "def potrf(A, MKLProc):\n",
    "    from scipy.linalg.lapack import dpotrf\n",
    "    import os\n",
    "    os.environ['MKL_NUM_THREADS']=str(MKLProc)\n",
    "    A = dpotrf(A, lower=True)[0]\n",
    "    return A\n",
    "\n",
    "@task(returns=np.ndarray)\n",
    "def solve_triangular(A, B, MKLProc):\n",
    "    from scipy.linalg import solve_triangular\n",
    "    from numpy import transpose\n",
    "    import os\n",
    "    os.environ['MKL_NUM_THREADS']=str(MKLProc)\n",
    "    B = transpose(B)\n",
    "    B = solve_triangular(A, B, lower=True)  # , trans='T'\n",
    "    B = transpose(B)\n",
    "    return B\n",
    "\n",
    "@task(returns=np.ndarray)\n",
    "def gemm(alpha, A, B, C, beta, MKLProc):\n",
    "    from scipy.linalg.blas import dgemm\n",
    "    from numpy import transpose\n",
    "    import os\n",
    "    os.environ['MKL_NUM_THREADS']=str(MKLProc)\n",
    "    B = transpose(B)\n",
    "    C = dgemm(alpha, A, B, c=C, beta=beta)\n",
    "    return C"
   ]
  },
  {
   "cell_type": "markdown",
   "metadata": {
    "slideshow": {
     "slide_type": "subslide"
    }
   },
   "source": [
    "### Auxiliar functions"
   ]
  },
  {
   "cell_type": "code",
   "execution_count": null,
   "metadata": {},
   "outputs": [],
   "source": [
    "def genMatrix(MSIZE, BSIZE, MKLProc, A):\n",
    "    for i in range(MSIZE):\n",
    "        A.append([])\n",
    "        for j in range(MSIZE):\n",
    "            A[i].append([])\n",
    "    for i in range(MSIZE):\n",
    "        mb = createBlock(BSIZE, MKLProc, True)\n",
    "        A[i][i]=mb\n",
    "        for j in range(i+1,MSIZE):\n",
    "            mb = createBlock(BSIZE, MKLProc, False)\n",
    "            A[i][j]=mb\n",
    "            A[j][i]=mb"
   ]
  },
  {
   "cell_type": "code",
   "execution_count": null,
   "metadata": {},
   "outputs": [],
   "source": [
    "def cholesky_blocked(MSIZE, BSIZE, mkl_threads, A):\n",
    "    import os\n",
    "    for k in range(MSIZE):\n",
    "        # Diagonal block factorization\n",
    "        A[k][k] = potrf(A[k][k], mkl_threads)\n",
    "        # Triangular systems\n",
    "        for i in range(k+1, MSIZE):\n",
    "            A[i][k] = solve_triangular(A[k][k], A[i][k], mkl_threads)\n",
    "            A[k][i] = np.zeros((BSIZE,BSIZE))\n",
    "        # update trailing matrix\n",
    "        for i in range(k+1, MSIZE):\n",
    "            for j in range(i, MSIZE):\n",
    "                A[j][i] = gemm(-1.0, A[j][k], A[i][k], A[j][i], 1.0, mkl_threads)\n",
    "    return A"
   ]
  },
  {
   "cell_type": "markdown",
   "metadata": {
    "slideshow": {
     "slide_type": "subslide"
    }
   },
   "source": [
    "## MAIN Code\n",
    "\n",
    "Parameters (that can be configured in the following cell):\n",
    "* MSIZE: Matrix size (default: 8)\n",
    "* BSIZE: Block size (default: 1024)\n",
    "* mkl_threads: Number of MKL threads (default: 1)"
   ]
  },
  {
   "cell_type": "code",
   "execution_count": null,
   "metadata": {},
   "outputs": [],
   "source": [
    "import ipywidgets as widgets\n",
    "from pycompss.api.api import compss_barrier\n",
    "import time\n",
    "\n",
    "w_MSIZE = widgets.IntText(value=8)\n",
    "w_BSIZE = widgets.IntText(value=1024)\n",
    "w_mkl_threads = widgets.IntText(value=1)\n",
    "\n",
    "def cholesky(MSIZE, BSIZE, mkl_threads):\n",
    "    # Generate de matrix\n",
    "    startTime = time.time()\n",
    "\n",
    "    # Generate supermatrix\n",
    "    A = []\n",
    "    res = []\n",
    "    genMatrix(MSIZE, BSIZE, mkl_threads, A)\n",
    "    compss_barrier()\n",
    "\n",
    "    initTime = time.time() - startTime\n",
    "    startDecompTime = time.time()\n",
    "    res = cholesky_blocked(MSIZE, BSIZE, mkl_threads, A)\n",
    "    compss_barrier()\n",
    "\n",
    "    decompTime = time.time() - startDecompTime\n",
    "    totalTime = decompTime + initTime\n",
    "    \n",
    "    print(\"---------- Elapsed Times ----------\")\n",
    "    print(\"initT:{}\".format(initTime))\n",
    "    print(\"decompT:{}\".format(decompTime))\n",
    "    print(\"totalTime:{}\".format(totalTime))\n",
    "    print(\"-----------------------------------\")\n",
    "    \n",
    "widgets.interact_manual(cholesky, MSIZE=w_MSIZE, BSIZE=w_BSIZE, mkl_threads=w_mkl_threads)"
   ]
  },
  {
   "cell_type": "code",
   "execution_count": null,
   "metadata": {},
   "outputs": [],
   "source": [
    "ipycompss.stop()"
   ]
  }
 ],
 "metadata": {
  "kernelspec": {
   "display_name": "Python 2",
   "language": "python",
   "name": "python2"
  },
  "language_info": {
   "codemirror_mode": {
    "name": "ipython",
    "version": 2
   },
   "file_extension": ".py",
   "mimetype": "text/x-python",
   "name": "python",
   "nbconvert_exporter": "python",
   "pygments_lexer": "ipython2",
   "version": "2.7.12"
  },
  "livereveal": {
   "auto_select": "code",
   "overlay": "<div class='myheader'><img height='100' align='right' src='http://www.bsc.es/actris/sites/default/files/logos/BSC-logo%201.jpg'></div>",
   "scroll": true,
   "theme": "simple",
   "transition": "slide"
  }
 },
 "nbformat": 4,
 "nbformat_minor": 2
}
