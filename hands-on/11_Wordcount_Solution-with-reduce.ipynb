{
 "cells": [
  {
   "cell_type": "markdown",
   "metadata": {
    "collapsed": true
   },
   "source": [
    "# Wordcount\n",
    "\n",
    "## Complete version"
   ]
  },
  {
   "cell_type": "code",
   "execution_count": null,
   "metadata": {},
   "outputs": [],
   "source": [
    "import os"
   ]
  },
  {
   "cell_type": "code",
   "execution_count": null,
   "metadata": {},
   "outputs": [],
   "source": [
    "import pycompss.interactive as ipycompss"
   ]
  },
  {
   "cell_type": "code",
   "execution_count": null,
   "metadata": {},
   "outputs": [],
   "source": [
    "from pycompss.api.task import task"
   ]
  },
  {
   "cell_type": "code",
   "execution_count": null,
   "metadata": {},
   "outputs": [],
   "source": [
    "from pycompss.api.parameter import *"
   ]
  },
  {
   "cell_type": "code",
   "execution_count": null,
   "metadata": {},
   "outputs": [],
   "source": [
    "ipycompss.start(debug=False, monitor=1000, graph=True, trace=True)"
   ]
  },
  {
   "cell_type": "code",
   "execution_count": null,
   "metadata": {},
   "outputs": [],
   "source": [
    "@task(returns=list)\n",
    "def read_file(file_path):\n",
    "    \"\"\" Read a file and return a list of words.\n",
    "    :param file_path: file's path\n",
    "    :return: list of words\n",
    "    \"\"\"\n",
    "    data = []\n",
    "    with open(file_path, 'r') as f:\n",
    "        for line in f:\n",
    "            data += line.split()\n",
    "    return data"
   ]
  },
  {
   "cell_type": "code",
   "execution_count": null,
   "metadata": {},
   "outputs": [],
   "source": [
    "@task(returns=dict)\n",
    "def wordCount(data):\n",
    "    \"\"\" Construct a frequency word dictorionary from a list of words.\n",
    "    :param data: a list of words\n",
    "    :return: a dictionary where key=word and value=#appearances\n",
    "    \"\"\"\n",
    "    partialResult = {}\n",
    "    for entry in data:\n",
    "        if entry in partialResult:\n",
    "            partialResult[entry] += 1\n",
    "        else:\n",
    "            partialResult[entry] = 1\n",
    "    return partialResult"
   ]
  },
  {
   "cell_type": "code",
   "execution_count": null,
   "metadata": {},
   "outputs": [],
   "source": [
    "@task(returns=dict, priority=True)\n",
    "def merge_dicts(*dictionaries):\n",
    "    import Queue\n",
    "    q = Queue.Queue()\n",
    "    for i in dictionaries:\n",
    "        q.put(i)\n",
    "    while not q.empty():\n",
    "        x = q.get()\n",
    "        if not q.empty():\n",
    "            y = q.get()\n",
    "            for k in y:\n",
    "                if k in x:\n",
    "                    x[k] += y[k]\n",
    "                else:\n",
    "                    x[k] = y[k]\n",
    "            q.put(x)\n",
    "    return(x)    "
   ]
  },
  {
   "cell_type": "code",
   "execution_count": null,
   "metadata": {},
   "outputs": [],
   "source": [
    "from pycompss.api.api import compss_wait_on\n",
    "\n",
    "# Get the dataset path\n",
    "pathDataset = '/home/compss/tutorial_apps/python/wordcount/data'\n",
    "\n",
    "# Construct a list with the file's paths from the dataset\n",
    "partialResult = []\n",
    "for fileName in os.listdir(pathDataset):\n",
    "    p = os.path.join(pathDataset, fileName)\n",
    "    data=read_file(p)\n",
    "    partialResult.append(wordCount(data))\n",
    "    \n",
    "# Accumulate the partial results to get the final result.\n",
    "result=merge_dicts(*partialResult)\n",
    "\n",
    "# Wait for result\n",
    "result = compss_wait_on(result)"
   ]
  },
  {
   "cell_type": "code",
   "execution_count": null,
   "metadata": {},
   "outputs": [],
   "source": [
    "print(\"Result:\")\n",
    "from pprint import pprint\n",
    "pprint(result)\n",
    "print(\"Words: {}\".format(sum(result.values())))"
   ]
  },
  {
   "cell_type": "code",
   "execution_count": null,
   "metadata": {},
   "outputs": [],
   "source": [
    "ipycompss.stop()"
   ]
  }
 ],
 "metadata": {
  "kernelspec": {
   "display_name": "Python 2",
   "language": "python",
   "name": "python2"
  },
  "language_info": {
   "codemirror_mode": {
    "name": "ipython",
    "version": 2
   },
   "file_extension": ".py",
   "mimetype": "text/x-python",
   "name": "python",
   "nbconvert_exporter": "python",
   "pygments_lexer": "ipython2",
   "version": "2.7.12"
  }
 },
 "nbformat": 4,
 "nbformat_minor": 1
}
