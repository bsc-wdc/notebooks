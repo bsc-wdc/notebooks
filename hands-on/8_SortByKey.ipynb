{
 "cells": [
  {
   "cell_type": "markdown",
   "metadata": {
    "slideshow": {
     "slide_type": "slide"
    }
   },
   "source": [
    "# PyCOMPSs - Hands On\n",
    "\n",
    "## <font color=blue> Demo Sort by Key </font>"
   ]
  },
  {
   "cell_type": "markdown",
   "metadata": {
    "slideshow": {
     "slide_type": "slide"
    }
   },
   "source": [
    "## Sort by Key\n",
    "\n",
    "Algorithm that sorts the elements of a set of files and merges the partial results respecting the order."
   ]
  },
  {
   "cell_type": "markdown",
   "metadata": {
    "slideshow": {
     "slide_type": "subslide"
    }
   },
   "source": [
    "### First of all - Create a dataset\n",
    "\n",
    "This step can be avoided if the dataset already exists.\n",
    "\n",
    "If not, this code snipped creates a set of files with dictionary on each one generated randomly. Uses pickle."
   ]
  },
  {
   "cell_type": "code",
   "execution_count": null,
   "metadata": {},
   "outputs": [],
   "source": [
    "def datasetGenerator(directory, numFiles, numPairs):\n",
    "    import random\n",
    "    import pickle\n",
    "    import os\n",
    "    if os.path.exists(directory):\n",
    "        print(\"Dataset directory already exists... Removing\")\n",
    "        import shutil\n",
    "        shutil.rmtree(directory)\n",
    "    os.makedirs(directory)\n",
    "    for f in range(numFiles):\n",
    "        fragment = {}\n",
    "        while len(fragment) < numPairs:\n",
    "            fragment[random.random()] = random.randint(0, 1000)\n",
    "        filename = 'file_' + str(f) + '.data'\n",
    "        with open(directory + '/' + filename, 'wb') as fd:\n",
    "            pickle.dump(fragment, fd)\n",
    "        print('File ' + filename + ' has been created.')"
   ]
  },
  {
   "cell_type": "code",
   "execution_count": null,
   "metadata": {},
   "outputs": [],
   "source": [
    "numFiles = 2\n",
    "numPairs = 10\n",
    "directoryName = 'dataset'\n",
    "datasetGenerator(directoryName, numFiles, numPairs)"
   ]
  },
  {
   "cell_type": "code",
   "execution_count": null,
   "metadata": {},
   "outputs": [],
   "source": [
    "# Show the files that have been created\n",
    "%ls -l $directoryName"
   ]
  },
  {
   "cell_type": "markdown",
   "metadata": {
    "slideshow": {
     "slide_type": "subslide"
    }
   },
   "source": [
    "### Algorithm definition"
   ]
  },
  {
   "cell_type": "code",
   "execution_count": null,
   "metadata": {
    "slideshow": {
     "slide_type": "-"
    }
   },
   "outputs": [],
   "source": [
    "import pycompss.interactive as ipycompss"
   ]
  },
  {
   "cell_type": "code",
   "execution_count": null,
   "metadata": {},
   "outputs": [],
   "source": [
    "ipycompss.start(graph=True)\n",
    "#trace=True"
   ]
  },
  {
   "cell_type": "code",
   "execution_count": null,
   "metadata": {
    "slideshow": {
     "slide_type": "-"
    }
   },
   "outputs": [],
   "source": [
    "from pycompss.api.task import task\n",
    "from pycompss.api.parameter import FILE_IN"
   ]
  },
  {
   "cell_type": "code",
   "execution_count": null,
   "metadata": {
    "slideshow": {
     "slide_type": "-"
    }
   },
   "outputs": [],
   "source": [
    "@task(returns=list, dataFile=FILE_IN)\n",
    "def sortPartition(dataFile):\n",
    "    '''\n",
    "    Reads the dataFile and sorts its content which is assumed to be a dictionary {K: V}\n",
    "    :param path: file that contains the data\n",
    "    :return: a list of (K, V) pairs sorted.\n",
    "    '''\n",
    "    import pickle\n",
    "    import operator\n",
    "    with open(dataFile, 'rb') as f:\n",
    "        data = pickle.load(f)\n",
    "    # res = sorted(data, key=lambda (k, v): k, reverse=not ascending)\n",
    "    partition_result = sorted(data.items(), key=operator.itemgetter(0), reverse=False)\n",
    "    return partition_result"
   ]
  },
  {
   "cell_type": "code",
   "execution_count": null,
   "metadata": {
    "slideshow": {
     "slide_type": "-"
    }
   },
   "outputs": [],
   "source": [
    "@task(returns=list, priority=True)\n",
    "def reducetask(a, b):\n",
    "    '''\n",
    "    Merges two partial results (lists of (K, V) pairs) respecting the order\n",
    "    :param a: Partial result a\n",
    "    :param b: Partial result b\n",
    "    :return: The merging result sorted\n",
    "    '''\n",
    "    partial_result = []\n",
    "    i = 0\n",
    "    j = 0\n",
    "    while i < len(a) and j < len(b):\n",
    "        if a[i] < b[j]:\n",
    "            partial_result.append(a[i])\n",
    "            i += 1\n",
    "        else:\n",
    "            partial_result.append(b[j])\n",
    "            j += 1\n",
    "    if i < len(a):\n",
    "        partial_result + a[i:]\n",
    "    elif j < len(b):\n",
    "        partial_result + b[j:]\n",
    "    return partial_result"
   ]
  },
  {
   "cell_type": "code",
   "execution_count": null,
   "metadata": {
    "slideshow": {
     "slide_type": "-"
    }
   },
   "outputs": [],
   "source": [
    "def merge_reduce(function, data):\n",
    "    import sys\n",
    "    if sys.version_info[0] >= 3:\n",
    "        import queue as Queue\n",
    "    else:\n",
    "        import Queue\n",
    "    q = Queue.Queue()\n",
    "    for i in data:\n",
    "        q.put(i)\n",
    "    while not q.empty():\n",
    "        x = q.get()\n",
    "        if not q.empty():\n",
    "            y = q.get()\n",
    "            q.put(function(x, y))\n",
    "        else:\n",
    "            return x"
   ]
  },
  {
   "cell_type": "markdown",
   "metadata": {
    "slideshow": {
     "slide_type": "subslide"
    }
   },
   "source": [
    "## MAIN\n",
    "\n",
    "Parameters (that can be configured in the following cell):\n",
    "* datasetPath: The path where the dataset is (default: the same as created previously).\n"
   ]
  },
  {
   "cell_type": "code",
   "execution_count": null,
   "metadata": {
    "scrolled": false,
    "slideshow": {
     "slide_type": "-"
    }
   },
   "outputs": [],
   "source": [
    "import os\n",
    "import time\n",
    "from pycompss.api.api import compss_wait_on\n",
    "\n",
    "datasetPath = directoryName  # Where the dataset is\n",
    "files = []\n",
    "for f in os.listdir(datasetPath):\n",
    "    files.append(datasetPath + '/' + f)\n",
    "    \n",
    "startTime = time.time()\n",
    "\n",
    "partialSorted = []\n",
    "for f in files:\n",
    "    partialSorted.append(sortPartition(f))\n",
    "result = merge_reduce(reducetask, partialSorted)\n",
    "\n",
    "result = compss_wait_on(result)\n",
    "\n",
    "print(\"Elapsed Time(s)\")\n",
    "print(time.time() - startTime)\n",
    "import pprint\n",
    "pprint.pprint(result)"
   ]
  },
  {
   "cell_type": "code",
   "execution_count": null,
   "metadata": {
    "slideshow": {
     "slide_type": "subslide"
    }
   },
   "outputs": [],
   "source": [
    "ipycompss.stop()"
   ]
  }
 ],
 "metadata": {
  "kernelspec": {
   "display_name": "Python 2",
   "language": "python",
   "name": "python2"
  },
  "language_info": {
   "codemirror_mode": {
    "name": "ipython",
    "version": 2
   },
   "file_extension": ".py",
   "mimetype": "text/x-python",
   "name": "python",
   "nbconvert_exporter": "python",
   "pygments_lexer": "ipython2",
   "version": "2.7.12"
  },
  "livereveal": {
   "auto_select": "code",
   "overlay": "<div class='myheader'><img height='100' align='right' src='http://www.bsc.es/actris/sites/default/files/logos/BSC-logo%201.jpg'></div>",
   "scroll": true,
   "theme": "simple",
   "transition": "slide"
  }
 },
 "nbformat": 4,
 "nbformat_minor": 1
}
