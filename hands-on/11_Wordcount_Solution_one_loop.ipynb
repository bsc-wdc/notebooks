{
 "cells": [
  {
   "cell_type": "markdown",
   "metadata": {
    "collapsed": true
   },
   "source": [
    "# Wordcount\n",
    "\n",
    "## Complete version"
   ]
  },
  {
   "cell_type": "code",
   "execution_count": null,
   "metadata": {},
   "outputs": [],
   "source": [
    "import os"
   ]
  },
  {
   "cell_type": "code",
   "execution_count": null,
   "metadata": {},
   "outputs": [],
   "source": [
    "import pycompss.interactive as ipycompss"
   ]
  },
  {
   "cell_type": "code",
   "execution_count": null,
   "metadata": {},
   "outputs": [],
   "source": [
    "from pycompss.api.task import task"
   ]
  },
  {
   "cell_type": "code",
   "execution_count": null,
   "metadata": {},
   "outputs": [],
   "source": [
    "from pycompss.api.parameter import *"
   ]
  },
  {
   "cell_type": "code",
   "execution_count": null,
   "metadata": {},
   "outputs": [],
   "source": [
    "if 'BINDER_SERVICE_HOST' in os.environ:\n",
    "    ipycompss.start(graph=True, trace=True, debug=False,\n",
    "                    project_xml='../xml/project.xml',\n",
    "                    resources_xml='../xml/resources.xml')\n",
    "else:\n",
    "    ipycompss.start(graph=True, monitor=1000, trace=False, debug=False)"
   ]
  },
  {
   "cell_type": "code",
   "execution_count": null,
   "metadata": {},
   "outputs": [],
   "source": [
    "@task(returns=list, file_path=FILE_IN)\n",
    "def read_file(file_path):\n",
    "    \"\"\" Read a file and return a list of words.\n",
    "    :param file_path: file's path\n",
    "    :return: list of words\n",
    "    \"\"\"\n",
    "    data = []\n",
    "    with open(file_path, 'r') as f:\n",
    "        for line in f:\n",
    "            data += line.split()\n",
    "    return data"
   ]
  },
  {
   "cell_type": "code",
   "execution_count": null,
   "metadata": {},
   "outputs": [],
   "source": [
    "@task(returns=dict)\n",
    "def wordCount(data):\n",
    "    \"\"\" Construct a frequency word dictorionary from a list of words.\n",
    "    :param data: a list of words\n",
    "    :return: a dictionary where key=word and value=#appearances\n",
    "    \"\"\"\n",
    "    partialResult = {}\n",
    "    for entry in data:\n",
    "        if entry in partialResult:\n",
    "            partialResult[entry] += 1\n",
    "        else:\n",
    "            partialResult[entry] = 1\n",
    "    return partialResult"
   ]
  },
  {
   "cell_type": "code",
   "execution_count": null,
   "metadata": {},
   "outputs": [],
   "source": [
    "#@task(returns=dict, priority=True)\n",
    "@task(returns=dict)\n",
    "def merge_two_dicts(dic1, dic2):\n",
    "    \"\"\" Update a dictionary with another dictionary.\n",
    "    :param dic1: first dictionary\n",
    "    :param dic2: second dictionary\n",
    "    :return: dic1+=dic2\n",
    "    \"\"\"\n",
    "    for k in dic2:\n",
    "        if k in dic1:\n",
    "            dic1[k] += dic2[k]\n",
    "        else:\n",
    "            dic1[k] = dic2[k]\n",
    "    return dic1"
   ]
  },
  {
   "cell_type": "code",
   "execution_count": null,
   "metadata": {},
   "outputs": [],
   "source": [
    "from pycompss.api.api import compss_wait_on\n",
    "\n",
    "# Get the dataset path\n",
    "pathDataset = os.getcwd() + '/dataset'\n",
    "\n",
    "# Read file's content execute a wordcount on each of them\n",
    "\n",
    "result = {}\n",
    "for fileName in os.listdir(pathDataset):\n",
    "    file_path = os.path.join(pathDataset, fileName)\n",
    "    data = read_file(file_path)\n",
    "    result = merge_two_dicts(result,wordCount(data))\n",
    "\n",
    "# Accumulate the partial results to get the final result.\n",
    "\n",
    "# Wait for result\n",
    "result = compss_wait_on(result)"
   ]
  },
  {
   "cell_type": "code",
   "execution_count": null,
   "metadata": {},
   "outputs": [],
   "source": [
    "print(\"Result:\")\n",
    "from pprint import pprint\n",
    "pprint(result)\n",
    "print(\"Words: {}\".format(sum(result.values())))"
   ]
  },
  {
   "cell_type": "code",
   "execution_count": null,
   "metadata": {},
   "outputs": [],
   "source": [
    "ipycompss.stop()"
   ]
  },
  {
   "cell_type": "code",
   "execution_count": null,
   "metadata": {},
   "outputs": [],
   "source": []
  }
 ],
 "metadata": {
  "kernelspec": {
   "display_name": "Python 3 (ipykernel)",
   "language": "python",
   "name": "python3"
  },
  "language_info": {
   "codemirror_mode": {
    "name": "ipython",
    "version": 3
   },
   "file_extension": ".py",
   "mimetype": "text/x-python",
   "name": "python",
   "nbconvert_exporter": "python",
   "pygments_lexer": "ipython3",
   "version": "3.10.12"
  },
  "varInspector": {
   "cols": {
    "lenName": 16,
    "lenType": 16,
    "lenVar": 40
   },
   "kernels_config": {
    "python": {
     "delete_cmd_postfix": "",
     "delete_cmd_prefix": "del ",
     "library": "var_list.py",
     "varRefreshCmd": "print(var_dic_list())"
    },
    "r": {
     "delete_cmd_postfix": ") ",
     "delete_cmd_prefix": "rm(",
     "library": "var_list.r",
     "varRefreshCmd": "cat(var_dic_list()) "
    }
   },
   "types_to_exclude": [
    "module",
    "function",
    "builtin_function_or_method",
    "instance",
    "_Feature"
   ],
   "window_display": false
  }
 },
 "nbformat": 4,
 "nbformat_minor": 1
}
