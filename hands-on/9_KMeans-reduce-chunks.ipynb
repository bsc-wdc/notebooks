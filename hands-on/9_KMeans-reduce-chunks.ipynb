{
 "cells": [
  {
   "cell_type": "markdown",
   "metadata": {
    "slideshow": {
     "slide_type": "slide"
    }
   },
   "source": [
    "# PyCOMPSs - Hands On\n",
    "\n",
    "## <font color=blue> Demo KMeans </font>"
   ]
  },
  {
   "cell_type": "markdown",
   "metadata": {
    "slideshow": {
     "slide_type": "slide"
    }
   },
   "source": [
    "# KMeans\n",
    "\n",
    "KMeans is machine-learning algorithm (NP-hard), popularly employed for cluster analysis in data mining, and interesting for benchmarking and performance evaluation. \n",
    "\n",
    "The objective of the Kmeans algorithm to group a set of multidimensional points into a predefined number of clusters, in which each point belongs to the closest cluster (with the nearest mean distance), in an iterative process.\n"
   ]
  },
  {
   "cell_type": "code",
   "execution_count": null,
   "metadata": {
    "slideshow": {
     "slide_type": "subslide"
    }
   },
   "outputs": [],
   "source": [
    "import pycompss.interactive as ipycompss"
   ]
  },
  {
   "cell_type": "code",
   "execution_count": null,
   "metadata": {},
   "outputs": [],
   "source": [
    "ipycompss.start(graph=True, monitor=2000)\n",
    "#trace=True"
   ]
  },
  {
   "cell_type": "code",
   "execution_count": null,
   "metadata": {
    "slideshow": {
     "slide_type": "subslide"
    }
   },
   "outputs": [],
   "source": [
    "from pycompss.api.task import task"
   ]
  },
  {
   "cell_type": "code",
   "execution_count": null,
   "metadata": {},
   "outputs": [],
   "source": [
    "import numpy as np"
   ]
  },
  {
   "cell_type": "code",
   "execution_count": null,
   "metadata": {
    "slideshow": {
     "slide_type": "subslide"
    }
   },
   "outputs": [],
   "source": [
    "def init_random(numV, dim, seed):\n",
    "    np.random.seed(seed)\n",
    "    c = [np.random.uniform(-3.5, 3.5, dim)]\n",
    "    while len(c) < numV:\n",
    "        p = np.random.uniform(-3.5, 3.5, dim)\n",
    "        distance = [np.linalg.norm(p-i) for i in c]\n",
    "        if min(distance) > 2:\n",
    "            c.append(p)\n",
    "    return c"
   ]
  },
  {
   "cell_type": "code",
   "execution_count": null,
   "metadata": {
    "slideshow": {
     "slide_type": "-"
    }
   },
   "outputs": [],
   "source": [
    "#@task(returns=list)  # Not a task for plotting\n",
    "def genFragment(numV, K, c, dim, mode='gauss'):\n",
    "    if mode == \"gauss\":\n",
    "        n = int(float(numV) / K)\n",
    "        r = numV % K\n",
    "        data = []\n",
    "        for k in range(K):\n",
    "            s = np.random.uniform(0.05, 0.75)\n",
    "            for i in range(n+r):\n",
    "                d = np.array([np.random.normal(c[k][j], s) for j in range(dim)])\n",
    "                data.append(d)\n",
    "        return np.array(data)[:numV]\n",
    "    else:\n",
    "        return [np.random.random(dim) for _ in range(numV)]"
   ]
  },
  {
   "cell_type": "code",
   "execution_count": null,
   "metadata": {
    "slideshow": {
     "slide_type": "subslide"
    }
   },
   "outputs": [],
   "source": [
    "@task(returns=dict)\n",
    "def cluster_points_partial(XP, mu, ind):\n",
    "    dic = {}\n",
    "    for x in enumerate(XP):\n",
    "        bestmukey = min([(i[0], np.linalg.norm(x[1] - mu[i[0]])) for i in enumerate(mu)], key=lambda t: t[1])[0]\n",
    "        if bestmukey not in dic:\n",
    "            dic[bestmukey] = [x[0] + ind]\n",
    "        else:\n",
    "            dic[bestmukey].append(x[0] + ind)\n",
    "    return dic"
   ]
  },
  {
   "cell_type": "code",
   "execution_count": null,
   "metadata": {},
   "outputs": [],
   "source": [
    "@task(returns=dict)\n",
    "def partial_sum(XP, clusters, ind):\n",
    "    p = [(i, [(XP[j - ind]) for j in clusters[i]]) for i in clusters]\n",
    "    dic = {}\n",
    "    for i, l in p:\n",
    "        dic[i] = (len(l), np.sum(l, axis=0))\n",
    "    return dic"
   ]
  },
  {
   "cell_type": "code",
   "execution_count": null,
   "metadata": {},
   "outputs": [],
   "source": [
    "def reduceCenters(a, b):\n",
    "    \"\"\"\n",
    "    Reduce method to sum the result of two partial_sum methods\n",
    "    :param a: partial_sum {cluster_ind: (#points_a, sum(points_a))}\n",
    "    :param b: partial_sum {cluster_ind: (#points_b, sum(points_b))}\n",
    "    :return: {cluster_ind: (#points_a+#points_b, sum(points_a+points_b))}\n",
    "    \"\"\"\n",
    "    for key in b:\n",
    "        if key not in a:\n",
    "            a[key] = b[key]\n",
    "        else:\n",
    "            a[key] = (a[key][0] + b[key][0], a[key][1] + b[key][1])\n",
    "    return a"
   ]
  },
  {
   "cell_type": "code",
   "execution_count": null,
   "metadata": {},
   "outputs": [],
   "source": [
    "@task(returns=dict)\n",
    "def reduceCentersTask(*data):\n",
    "    reduce_value = data[0]\n",
    "    for i in range(1, len(data)):\n",
    "        reduce_value = reduceCenters(reduce_value, data[i])\n",
    "    return reduce_value"
   ]
  },
  {
   "cell_type": "code",
   "execution_count": null,
   "metadata": {
    "slideshow": {
     "slide_type": "subslide"
    }
   },
   "outputs": [],
   "source": [
    "def mergeReduce(function, data, chunk=50):\n",
    "    \"\"\" Apply function cumulatively to the items of data,\n",
    "        from left to right in binary tree structure, so as to\n",
    "        reduce the data to a single value.\n",
    "    :param function: function to apply to reduce data\n",
    "    :param data: List of items to be reduced\n",
    "    :return: result of reduce the data to a single value\n",
    "    \"\"\"\n",
    "    while(len(data)) > 1:\n",
    "        dataToReduce = data[:chunk]\n",
    "        data = data[chunk:]\n",
    "        data.append(function(*dataToReduce))\n",
    "    return data[0]"
   ]
  },
  {
   "cell_type": "code",
   "execution_count": null,
   "metadata": {
    "slideshow": {
     "slide_type": "fragment"
    }
   },
   "outputs": [],
   "source": [
    "def has_converged(mu, oldmu, epsilon, iter, maxIterations):\n",
    "    print(\"iter: \" + str(iter))\n",
    "    print(\"maxIterations: \" + str(maxIterations))\n",
    "    if oldmu != []:\n",
    "        if iter < maxIterations:\n",
    "            aux = [np.linalg.norm(oldmu[i] - mu[i]) for i in range(len(mu))]\n",
    "            distancia = sum(aux)\n",
    "            if distancia < epsilon * epsilon:\n",
    "                print(\"Distance_T: \" + str(distancia))\n",
    "                return True\n",
    "            else:\n",
    "                print(\"Distance_F: \" + str(distancia))\n",
    "                return False\n",
    "        else:\n",
    "            # Reached the max amount of iterations\n",
    "            return True"
   ]
  },
  {
   "cell_type": "code",
   "execution_count": null,
   "metadata": {
    "slideshow": {
     "slide_type": "subslide"
    }
   },
   "outputs": [],
   "source": [
    "def plotKMEANS(dim, mu, clusters, data):\n",
    "    import pylab as plt\n",
    "    colors = ['b','g','r','c','m','y','k']\n",
    "    if dim == 2 and len(mu) <= len(colors):\n",
    "        from matplotlib.patches import Circle\n",
    "        from matplotlib.collections import PatchCollection\n",
    "        fig, ax = plt.subplots(figsize=(10,10))\n",
    "        patches = []\n",
    "        pcolors = []\n",
    "        for i in range(len(clusters)):\n",
    "            for key in clusters[i].keys():\n",
    "                d = clusters[i][key]   \n",
    "                for j in d:\n",
    "                    j = j - i * len(data[0])\n",
    "                    C = Circle((data[i][j][0], data[i][j][1]), .05)\n",
    "                    pcolors.append(colors[key])\n",
    "                    patches.append(C)\n",
    "        collection = PatchCollection(patches)\n",
    "        collection.set_facecolor(pcolors)\n",
    "        ax.add_collection(collection)\n",
    "        x, y = zip(*mu)\n",
    "        plt.plot(x, y, '*', c='y', markersize=20)\n",
    "        plt.autoscale(enable=True, axis='both', tight=False)\n",
    "        plt.show()\n",
    "    elif dim == 3 and len(mu) <= len(colors):\n",
    "        from mpl_toolkits.mplot3d import Axes3D\n",
    "        fig = plt.figure()\n",
    "        ax = fig.add_subplot(111, projection='3d')\n",
    "        for i in range(len(clusters)):\n",
    "            for key in clusters[i].keys():\n",
    "                d = clusters[i][key]\n",
    "                for j in d:\n",
    "                    j = j - i * len(data[0])\n",
    "                    ax.scatter(data[i][j][0], data[i][j][1], data[i][j][2], 'o', c=colors[key])\n",
    "        x, y, z = zip(*mu)\n",
    "        for i in range(len(mu)):\n",
    "            ax.scatter(x[i], y[i], z[i], s=80, c='y', marker='D')\n",
    "        plt.show()\n",
    "    else:\n",
    "        print(\"No representable dim or not enough colours\")"
   ]
  },
  {
   "cell_type": "markdown",
   "metadata": {
    "slideshow": {
     "slide_type": "subslide"
    }
   },
   "source": [
    "## MAIN\n",
    "\n",
    "Parameters (that can be configured in the following cell):\n",
    "* numV: number of vectors (default: 10.000)                                                           \n",
    "* dim: dimension of the points (default: 2)\n",
    "* k: number of centers (default: 4)\n",
    "* numFrag: number of fragments (default: 16)\n",
    "* epsilon: convergence condition (default: 1e-10)\n",
    "* maxIterations: Maximum number of iterations (default: 20)\n"
   ]
  },
  {
   "cell_type": "code",
   "execution_count": null,
   "metadata": {
    "scrolled": false,
    "slideshow": {
     "slide_type": "subslide"
    }
   },
   "outputs": [],
   "source": [
    "%matplotlib inline\n",
    "import ipywidgets as widgets\n",
    "from pycompss.api.api import compss_wait_on\n",
    "\n",
    "w_numV = widgets.IntText(value=10000)        # Number of Vectors - with 1000 it is feasible to see the evolution across iterations\n",
    "w_dim = widgets.IntText(value=2)             # Number of Dimensions\n",
    "w_k = widgets.IntText(value=4)               # Centers\n",
    "w_numFrag = widgets.IntText(value=16)        # Fragments\n",
    "w_epsilon = widgets.FloatText(value=1e-10)   # Convergence condition\n",
    "w_maxIterations = widgets.IntText(value=20)  # Max number of iterations\n",
    "w_seed = widgets.IntText(value=8)            # Random seed\n",
    "\n",
    "def kmeans(numV, dim, k, numFrag, epsilon, maxIterations, seed):\n",
    "    size = int(numV / numFrag)\n",
    "    cloudCenters = init_random(k, dim, seed) # centers to create data groups\n",
    "    X = [genFragment(size, k, cloudCenters, dim, mode='gauss') for _ in range(numFrag)]\n",
    "    mu = init_random(k, dim, seed - 1)       # First centers\n",
    "    oldmu = []\n",
    "    n = 0\n",
    "    while not has_converged(mu, oldmu, epsilon, n, maxIterations):\n",
    "        oldmu = mu\n",
    "        clusters = [cluster_points_partial(X[f], mu, f * size) for f in range(numFrag)]\n",
    "        partialResult = [partial_sum(X[f], clusters[f], f * size) for f in range(numFrag)]\n",
    "        mu = mergeReduce(reduceCentersTask, partialResult, chunk=4)\n",
    "        mu = compss_wait_on(mu)\n",
    "        mu = [mu[c][1] / mu[c][0] for c in mu]\n",
    "        while len(mu) < k:\n",
    "            # Add new random center if one of the centers has no points.\n",
    "            indP = np.random.randint(0, size)\n",
    "            indF = np.random.randint(0, numFrag)\n",
    "            mu.append(X[indF][indP])\n",
    "        n += 1\n",
    "    clusters = compss_wait_on(clusters)\n",
    "    plotKMEANS(dim, mu, clusters, X)\n",
    "    print(\"--------------------\")\n",
    "    print(\"Result:\")\n",
    "    print(\"Iterations: \", n)\n",
    "    print(\"Centers: \", mu)\n",
    "    print(\"--------------------\")\n",
    "    \n",
    "widgets.interact_manual(kmeans, numV=w_numV, dim=w_dim, k=w_k, numFrag=w_numFrag, epsilon=w_epsilon, maxIterations=w_maxIterations, seed=w_seed)"
   ]
  },
  {
   "cell_type": "code",
   "execution_count": null,
   "metadata": {
    "slideshow": {
     "slide_type": "subslide"
    }
   },
   "outputs": [],
   "source": [
    "ipycompss.stop()"
   ]
  }
 ],
 "metadata": {
  "kernelspec": {
   "display_name": "Python 2",
   "language": "python",
   "name": "python2"
  },
  "language_info": {
   "codemirror_mode": {
    "name": "ipython",
    "version": 2
   },
   "file_extension": ".py",
   "mimetype": "text/x-python",
   "name": "python",
   "nbconvert_exporter": "python",
   "pygments_lexer": "ipython2",
   "version": "2.7.12"
  },
  "livereveal": {
   "auto_select": "code",
   "overlay": "<div class='myheader'><img height='100' align='right' src='http://www.bsc.es/actris/sites/default/files/logos/BSC-logo%201.jpg'></div>",
   "scroll": true,
   "theme": "simple",
   "transition": "slide"
  }
 },
 "nbformat": 4,
 "nbformat_minor": 1
}
