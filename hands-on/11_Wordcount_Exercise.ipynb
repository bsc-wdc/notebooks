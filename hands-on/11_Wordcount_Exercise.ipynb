{
 "cells": [
  {
   "cell_type": "markdown",
   "metadata": {
    "collapsed": true
   },
   "source": [
    "# Wordcount\n",
    "\n",
    "## Sequential version"
   ]
  },
  {
   "cell_type": "code",
   "execution_count": null,
   "metadata": {},
   "outputs": [],
   "source": [
    "import os"
   ]
  },
  {
   "cell_type": "code",
   "execution_count": null,
   "metadata": {},
   "outputs": [],
   "source": [
    "def read_file(file_path):\n",
    "    \"\"\" Read a file and return a list of words.\n",
    "    :param file_path: file's path\n",
    "    :return: list of words\n",
    "    \"\"\"\n",
    "    data = []\n",
    "    with open(file_path, 'r') as f:\n",
    "        for line in f:\n",
    "            data += line.split()\n",
    "    return data"
   ]
  },
  {
   "cell_type": "code",
   "execution_count": null,
   "metadata": {},
   "outputs": [],
   "source": [
    "def wordCount(data):\n",
    "    \"\"\" Construct a frequency word dictorionary from a list of words.\n",
    "    :param data: a list of words\n",
    "    :return: a dictionary where key=word and value=#appearances\n",
    "    \"\"\"\n",
    "    partialResult = {}\n",
    "    for entry in data:\n",
    "        if entry in partialResult:\n",
    "            partialResult[entry] += 1\n",
    "        else:\n",
    "            partialResult[entry] = 1\n",
    "    return partialResult"
   ]
  },
  {
   "cell_type": "code",
   "execution_count": null,
   "metadata": {},
   "outputs": [],
   "source": [
    "def merge_two_dicts(dic1, dic2):\n",
    "    \"\"\" Update a dictionary with another dictionary.\n",
    "    :param dic1: first dictionary\n",
    "    :param dic2: second dictionary\n",
    "    :return: dic1+=dic2\n",
    "    \"\"\"\n",
    "    for k in dic2:\n",
    "        if k in dic1:\n",
    "            dic1[k] += dic2[k]\n",
    "        else:\n",
    "            dic1[k] = dic2[k]\n",
    "    return dic1"
   ]
  },
  {
   "cell_type": "code",
   "execution_count": null,
   "metadata": {},
   "outputs": [],
   "source": [
    "# Get the dataset path\n",
    "pathDataset = '/home/compss/tutorial_apps/python/wordcount/data'\n",
    "\n",
    "# Read file's content execute a wordcount on each of them\n",
    "partialResult = []\n",
    "for fileName in os.listdir(pathDataset):\n",
    "    file_path = os.path.join(pathDataset, fileName)\n",
    "    data = read_file(file_path)\n",
    "    partialResult.append(wordCount(data))\n",
    "\n",
    "# Accumulate the partial results to get the final result.\n",
    "result = {}\n",
    "for partial in partialResult:\n",
    "    result = merge_two_dicts(result, partial)"
   ]
  },
  {
   "cell_type": "code",
   "execution_count": null,
   "metadata": {},
   "outputs": [],
   "source": [
    "print(\"Result:\")\n",
    "from pprint import pprint\n",
    "pprint(result)\n",
    "print(\"Words: {}\".format(sum(result.values())))"
   ]
  }
 ],
 "metadata": {
  "kernelspec": {
   "display_name": "Python 2",
   "language": "python",
   "name": "python2"
  },
  "language_info": {
   "codemirror_mode": {
    "name": "ipython",
    "version": 2
   },
   "file_extension": ".py",
   "mimetype": "text/x-python",
   "name": "python",
   "nbconvert_exporter": "python",
   "pygments_lexer": "ipython2",
   "version": "2.7.12"
  }
 },
 "nbformat": 4,
 "nbformat_minor": 1
}
